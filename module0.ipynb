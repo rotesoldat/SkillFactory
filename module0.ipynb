{
 "cells": [
  {
   "cell_type": "code",
   "execution_count": 3,
   "metadata": {},
   "outputs": [],
   "source": [
    "import numpy as np"
   ]
  },
  {
   "cell_type": "code",
   "execution_count": 62,
   "metadata": {},
   "outputs": [],
   "source": [
    "def score_game(game_core):\n",
    "    '''Запускаем игру 1000 раз, чтобы узнать, как быстро игра угадывает число'''\n",
    "    count_ls = []\n",
    "    np.random.seed(1)  # фиксируем RANDOM SEED, чтобы ваш эксперимент был воспроизводим!\n",
    "    random_array = np.random.randint(1,101, size=(1000))\n",
    "    for number in random_array:\n",
    "        count_ls.append(game_core(number))\n",
    "    score = int(np.mean(count_ls))\n",
    "    print(f\"Ваш алгоритм угадывает число в среднем за {score} попыток\")\n",
    "    return(score)\n",
    "\n",
    "def game_core_v1(number):\n",
    "    '''Просто угадываем на random, никак не используя информацию о больше или меньше.\n",
    "       Функция принимает загаданное число и возвращает число попыток'''\n",
    "    count = 0\n",
    "    np.random.seed(1)\n",
    "    while True:\n",
    "        count+=1\n",
    "        predict = np.random.randint(1,101) # предполагаемое число\n",
    "        if number == predict: \n",
    "            return count # выход из цикла, если угадали\n",
    "        \n",
    "# запускаем\n",
    "\n",
    "def game_core_v2(number):\n",
    "    '''Сначала устанавливаем любое random число, а потом уменьшаем или увеличиваем его в зависимости от того, больше оно или меньше нужного.\n",
    "       Функция принимает загаданное число и возвращает число попыток'''\n",
    "    count = 1\n",
    "    np.random.seed(1)\n",
    "    predict = np.random.randint(1,101)\n",
    "    while number != predict:\n",
    "        count+=1\n",
    "        if number > predict: \n",
    "            predict += 1\n",
    "        elif number < predict: \n",
    "            predict -= 1\n",
    "    return(count) # выход из цикла, если угадали\n",
    "\n",
    "def game_core_v3(number, printing=False):\n",
    "    '''Обновляем новое число как случайное из диапазона: верхняя граница - right_bound, нижняя граница - left_bound'''\n",
    "    '''Меняем границы на каждой итерации в зависимости от ответа (больше или меньше)'''\n",
    "    '''Параметр printing для вывода этапов угадывания (по умолчанию не выводим)'''\n",
    "    count = 1\n",
    "    # задаем верхнюю и нижние границы\n",
    "    right_bound = 101\n",
    "    left_bound = 1\n",
    "    predict = np.random.randint(left_bound,right_bound)\n",
    "    np.random.seed(1)\n",
    "    if printing==True:\n",
    "        print('Загадано: ', number)\n",
    "    while number != predict:\n",
    "        count+=1\n",
    "        if number > predict: \n",
    "            # обновляем нижнюю границу как число из попытки, если загаданное больше\n",
    "            # для нижней границы не включаем само предсказанное число (+1)\n",
    "            left_bound = predict + 1\n",
    "        elif number < predict: \n",
    "            # обновляем верхнюю границу как число из попытки, если загаданное меньше\n",
    "            right_bound = predict\n",
    "        # генерируем новое число в пределах границ\n",
    "        predict = np.random.randint(left_bound,right_bound)\n",
    "        if printing == True:\n",
    "            print('Попытка №:', count, 'Предсказано:', predict, \n",
    "                  'Нижняя граница:', left_bound, 'Верхняя граница:', right_bound)\n",
    "    return(count) # выход из цикла, если угадали"
   ]
  },
  {
   "cell_type": "code",
   "execution_count": 63,
   "metadata": {},
   "outputs": [
    {
     "name": "stdout",
     "output_type": "stream",
     "text": [
      "Ваш алгоритм угадывает число в среднем за 85 попыток\n",
      "Ваш алгоритм угадывает число в среднем за 27 попыток\n",
      "Ваш алгоритм угадывает число в среднем за 6 попыток\n"
     ]
    },
    {
     "data": {
      "text/plain": [
       "6"
      ]
     },
     "execution_count": 63,
     "metadata": {},
     "output_type": "execute_result"
    }
   ],
   "source": [
    "score_game(game_core_v1)\n",
    "score_game(game_core_v2)\n",
    "score_game(game_core_v3)"
   ]
  },
  {
   "cell_type": "code",
   "execution_count": 30,
   "metadata": {},
   "outputs": [
    {
     "data": {
      "text/plain": [
       "9"
      ]
     },
     "execution_count": 30,
     "metadata": {},
     "output_type": "execute_result"
    }
   ],
   "source": [
    "game_core_v3(16)"
   ]
  },
  {
   "cell_type": "code",
   "execution_count": 65,
   "metadata": {},
   "outputs": [
    {
     "name": "stdout",
     "output_type": "stream",
     "text": [
      "Загадано:  87\n",
      "Попытка №: 2 Предсказано: 48 Нижняя граница: 11 Верхняя граница: 101\n",
      "Попытка №: 3 Предсказано: 92 Нижняя граница: 49 Верхняя граница: 101\n",
      "Попытка №: 4 Предсказано: 61 Нижняя граница: 49 Верхняя граница: 92\n",
      "Попытка №: 5 Предсказано: 70 Нижняя граница: 62 Верхняя граница: 92\n",
      "Попытка №: 6 Предсказано: 80 Нижняя граница: 71 Верхняя граница: 92\n",
      "Попытка №: 7 Предсказано: 86 Нижняя граница: 81 Верхняя граница: 92\n",
      "Попытка №: 8 Предсказано: 87 Нижняя граница: 87 Верхняя граница: 92\n"
     ]
    },
    {
     "data": {
      "text/plain": [
       "8"
      ]
     },
     "execution_count": 65,
     "metadata": {},
     "output_type": "execute_result"
    }
   ],
   "source": [
    "game_core_v3(87, printing=True)"
   ]
  },
  {
   "cell_type": "code",
   "execution_count": null,
   "metadata": {},
   "outputs": [],
   "source": []
  }
 ],
 "metadata": {
  "kernelspec": {
   "display_name": "Python 3",
   "language": "python",
   "name": "python3"
  },
  "language_info": {
   "codemirror_mode": {
    "name": "ipython",
    "version": 3
   },
   "file_extension": ".py",
   "mimetype": "text/x-python",
   "name": "python",
   "nbconvert_exporter": "python",
   "pygments_lexer": "ipython3",
   "version": "3.6.5"
  }
 },
 "nbformat": 4,
 "nbformat_minor": 2
}
